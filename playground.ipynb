import requests as r
import pprint as pprint
from github import Github
import pandas as pd
import numpy as np

# or using an access token
g = Github("ce0b6b0658bd5f3d3fc7072bf497a6897d07de18")

#create a loading pipeline 

#get the user repo and count the number of repo
user_data = g.get_user('risenW')
gr = user_data.get_repos()
for repo_name in gr:
    user_repo = repo_name.name
    print(user_repo)
    print(len(user_repo))








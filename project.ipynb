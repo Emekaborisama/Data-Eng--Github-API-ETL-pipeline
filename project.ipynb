{
 "cells": [
  {
   "cell_type": "code",
   "execution_count": 17,
   "metadata": {},
   "outputs": [
    {
     "name": "stdout",
     "output_type": "stream",
     "text": [
      "            name  num_repo\n",
      "0  Rising Odegua        59\n",
      "Opened database successfully\n",
      "Data already exists in the database\n",
      "Close database successfully\n"
     ]
    }
   ],
   "source": [
    "import requests as r\n",
    "import pprint as pprint\n",
    "from github import Github\n",
    "import pandas as pd\n",
    "import numpy as np\n",
    "\n",
    "# or using an access token\n",
    "g = Github(\"ce0b6b0658bd5f3d3fc7072bf497a6897d07de18\")\n",
    "\n",
    "#create a loading pipeline \n",
    "import requests\n",
    "from pprint import pprint\n",
    "\n",
    "# github username\n",
    "username = \"risenW\"\n",
    "\n",
    "\n",
    "#check validation\n",
    "\n",
    "    #url to request\n",
    "url = f\"https://api.github.com/users/{username}\"\n",
    "# make the request and return the json\n",
    "user_data = requests.get(url).json()\n",
    "user = g.get_user(username)\n",
    "for repo in user.get_repos():\n",
    "    reposs = repo\n",
    "    lan = repo.language\n",
    "    l = str(lan)\n",
    "    data = {'name': user_data['name'],\n",
    "              'num_repo' : user_data['public_repos']\n",
    "               }\n",
    "df = pd.DataFrame(data, columns = ['name','num_repo'],index=[0])\n",
    "print(df)\n",
    "engine = sqlalchemy.create_engine(DATABASE_LOCATION)\n",
    "conn = sqlite3.connect('my_played_tracks.sqlite')\n",
    "cursor = conn.cursor()\n",
    "sql_query = \"\"\"CREATE TABLE IF NOT EXISTS my_played_tracks(\n",
    "        name VARCHAR(200),\n",
    "        repo VARCHAR(200),\n",
    "        CONSTRAINT primary_key_constraint PRIMARY KEY (name, repo)\n",
    "    )\n",
    "    \"\"\"\n",
    "cursor.execute(sql_query)\n",
    "print(\"Opened database successfully\")\n",
    "try:\n",
    "    df.to_sql(\"my_played_tracks\", engine, index=False, if_exists='append')\n",
    "except:\n",
    "    print(\"Data already exists in the database\")\n",
    "    conn.close()\n",
    "    print(\"Close database successfully\")\n",
    "  #\n",
    "\n",
    "\n",
    "\n",
    "#load to a google big query datawarehouse\n",
    "\n",
    "\n",
    "\n",
    "\n",
    "\n",
    "\n",
    "\n",
    "\n",
    "\n"
   ]
  },
  {
   "cell_type": "code",
   "execution_count": 3,
   "metadata": {},
   "outputs": [],
   "source": [
    "from pandas.io import gbq"
   ]
  },
  {
   "cell_type": "code",
   "execution_count": 4,
   "metadata": {},
   "outputs": [],
   "source": [
    "import sqlalchemy\n",
    "from sqlalchemy.orm import sessionmaker\n",
    "import sqlite3"
   ]
  },
  {
   "cell_type": "code",
   "execution_count": 5,
   "metadata": {},
   "outputs": [],
   "source": [
    "DATABASE_LOCATION = \"sqlite:///my_played_tracks.sqlite\""
   ]
  },
  {
   "cell_type": "code",
   "execution_count": 21,
   "metadata": {},
   "outputs": [
    {
     "name": "stdout",
     "output_type": "stream",
     "text": [
      "Please visit this URL to authorize this application: https://accounts.google.com/o/oauth2/auth?response_type=code&client_id=725825577420-unm2gnkiprugilg743tkbig250f4sfsj.apps.googleusercontent.com&redirect_uri=urn%3Aietf%3Awg%3Aoauth%3A2.0%3Aoob&scope=https%3A%2F%2Fwww.googleapis.com%2Fauth%2Fbigquery&state=USm5qqqzFY2wutND2vqDKpHxjPxmqh&prompt=consent&access_type=offline\n"
     ]
    },
    {
     "name": "stdin",
     "output_type": "stream",
     "text": [
      "Enter the authorization code:  4/5wE7SssoVOePf9J95NY_Ae0OmnA510J11TrMHfzZ5RmggXdxau-qwA4\n"
     ]
    },
    {
     "name": "stderr",
     "output_type": "stream",
     "text": [
      "1it [00:06,  6.46s/it]\n"
     ]
    }
   ],
   "source": [
    "df.to_gbq(destination_table = 'sample.sample',\n",
    "         project_id = 'thread-290523', \n",
    "         if_exists = 'replace')"
   ]
  },
  {
   "cell_type": "code",
   "execution_count": null,
   "metadata": {},
   "outputs": [],
   "source": []
  }
 ],
 "metadata": {
  "kernelspec": {
   "display_name": "Python 3",
   "language": "python",
   "name": "python3"
  },
  "language_info": {
   "codemirror_mode": {
    "name": "ipython",
    "version": 3
   },
   "file_extension": ".py",
   "mimetype": "text/x-python",
   "name": "python",
   "nbconvert_exporter": "python",
   "pygments_lexer": "ipython3",
   "version": "3.7.6"
  }
 },
 "nbformat": 4,
 "nbformat_minor": 4
}
